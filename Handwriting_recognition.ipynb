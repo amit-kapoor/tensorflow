{
 "cells": [
  {
   "cell_type": "code",
   "execution_count": 6,
   "metadata": {},
   "outputs": [
    {
     "name": "stdout",
     "output_type": "stream",
     "text": [
      "Epoch 1/10\n",
      "1875/1875 [==============================] - 3s 2ms/step - loss: 0.2018 - accuracy: 0.9388\n",
      "Epoch 2/10\n",
      "1875/1875 [==============================] - 3s 2ms/step - loss: 0.0806 - accuracy: 0.9756\n",
      "Epoch 3/10\n",
      "1875/1875 [==============================] - 3s 2ms/step - loss: 0.0534 - accuracy: 0.9833\n",
      "Epoch 4/10\n",
      "1875/1875 [==============================] - 3s 2ms/step - loss: 0.0375 - accuracy: 0.9882\n",
      "Epoch 5/10\n",
      "1851/1875 [============================>.] - ETA: 0s - loss: 0.0276 - accuracy: 0.9911\n",
      "Reached 99% accuracy so cancelling training!\n",
      "1875/1875 [==============================] - 3s 2ms/step - loss: 0.0277 - accuracy: 0.9911\n"
     ]
    },
    {
     "data": {
      "text/plain": [
       "([0, 1, 2, 3, 4], 0.9910500049591064)"
      ]
     },
     "execution_count": 6,
     "metadata": {},
     "output_type": "execute_result"
    }
   ],
   "source": [
    "import tensorflow as tf\n",
    "\n",
    "def train_mnist():\n",
    "    class customcallback(tf.keras.callbacks.Callback):\n",
    "        def on_epoch_end(self, epoch, logs=None):\n",
    "            if(logs.get('acc')>0.99):\n",
    "                print(\"\\nReached 99% accuracy so cancelling training!\")\n",
    "                self.model.stop_training = True\n",
    "    \n",
    "    callbacks = customcallback()\n",
    "    \n",
    "    # load mnist dataset\n",
    "    mnist = tf.keras.datasets.mnist\n",
    "    \n",
    "    # training and testing data\n",
    "    (x_train, y_train),(x_test, y_test) = mnist.load_data()\n",
    "\n",
    "    x_train = x_train/255.0\n",
    "    x_test = x_test/255.0\n",
    "    \n",
    "    model = tf.keras.models.Sequential([tf.keras.layers.Flatten(),\n",
    "                                        tf.keras.layers.Dense(512, activation=tf.nn.relu),\n",
    "                                        tf.keras.layers.Dense(10, activation=tf.nn.softmax)])\n",
    "    \n",
    "    \n",
    "    # build the model\n",
    "    model.compile(optimizer='adam', loss='sparse_categorical_crossentropy', metrics=['accuracy'])\n",
    "    \n",
    "    # train model\n",
    "    history = model.fit(x_train, y_train, epochs=10, callbacks=[callbacks])\n",
    "    \n",
    "    return history.epoch, history.history['acc'][-1]\n",
    "\n",
    "train_mnist()"
   ]
  }
 ],
 "metadata": {
  "kernelspec": {
   "display_name": "Python 3",
   "language": "python",
   "name": "python3"
  },
  "language_info": {
   "codemirror_mode": {
    "name": "ipython",
    "version": 3
   },
   "file_extension": ".py",
   "mimetype": "text/x-python",
   "name": "python",
   "nbconvert_exporter": "python",
   "pygments_lexer": "ipython3",
   "version": "3.7.6"
  }
 },
 "nbformat": 4,
 "nbformat_minor": 4
}
